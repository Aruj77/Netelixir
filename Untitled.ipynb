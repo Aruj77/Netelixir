{
 "cells": [
  {
   "cell_type": "code",
   "execution_count": 11,
   "id": "554a5b80",
   "metadata": {},
   "outputs": [],
   "source": [
    "import pandas as pd\n",
    "import numpy as np\n",
    "from sklearn.model_selection import train_test_split\n",
    "from sklearn.ensemble import RandomForestRegressor\n",
    "from sklearn.metrics import mean_squared_error, r2_score\n",
    "import matplotlib.pyplot as plt\n",
    "import seaborn as sns"
   ]
  },
  {
   "cell_type": "code",
   "execution_count": 12,
   "id": "bee5df4a",
   "metadata": {},
   "outputs": [
    {
     "name": "stdout",
     "output_type": "stream",
     "text": [
      "Google Ads Performance Data:\n",
      "         Date    Campaign type  Impressions  Clicks    Cost  Conversions  \\\n",
      "0  2024-01-01    Cross-network     143669.0   896.0   656.3          6.5   \n",
      "1  2024-01-01  Display Network          3.0     0.0     0.0          0.0   \n",
      "2  2024-01-01   Search Network       3701.0   251.0   496.5          4.5   \n",
      "3  2024-01-01          YouTube      36211.0     8.0   115.2          0.0   \n",
      "4  2024-01-02    Cross-network     183496.0  1172.0  1525.0          8.8   \n",
      "\n",
      "   Revenue  \n",
      "0   1410.3  \n",
      "1      0.0  \n",
      "2    576.4  \n",
      "3      0.0  \n",
      "4   3565.7  \n",
      "\n",
      "Microsoft Ads Performance Data:\n",
      "         Date     Campaign type  Impressions  Clicks   Cost  Conversions  \\\n",
      "0  2024-01-01          Audience       9132.0    50.0   26.8          0.0   \n",
      "1  2024-01-01   Performance max        897.0     9.0    7.0          0.0   \n",
      "2  2024-01-01  Search & content      95977.0   561.0  846.5          1.0   \n",
      "3  2024-01-01          Shopping      59860.0   343.0  215.2          1.0   \n",
      "4  2024-01-02          Audience       9926.0    49.0   25.9          0.0   \n",
      "\n",
      "   Revenue  \n",
      "0      0.0  \n",
      "1      0.0  \n",
      "2    168.8  \n",
      "3    143.5  \n",
      "4      0.0  \n",
      "\n",
      "Meta Ads Performance Data:\n",
      "         Date  Impressions    Reach   Cost  Clicks  Conversions  Revenue\n",
      "0  2024-01-01      36034.0  27263.0  209.1   608.0          4.0    158.2\n",
      "1  2024-01-02      30804.0  22648.0  204.9   516.0         11.0   1412.8\n",
      "2  2024-01-03      26372.0  18947.0  198.7   429.0          4.0    371.5\n",
      "3  2024-01-04      17354.0  11436.0  131.2   324.0          4.0      0.0\n",
      "4  2024-01-05      12036.0   7921.0  114.0   224.0          2.0      0.0\n",
      "\n",
      "Website Landing Data:\n",
      "    User Id Website Landing Time  Is Converted Source Channel Campaign Type\n",
      "0  20a70111  2024-02-29 01:57:19             0    NaN  direct           NaN\n",
      "1  20a70111  2024-02-29 13:58:10             0    NaN  direct           NaN\n",
      "2  58830f30  2024-01-18 13:22:58             0    NaN  direct           NaN\n",
      "3  58830f30  2024-01-19 16:19:37             0    NaN  direct           NaN\n",
      "4  58830f30  2024-01-22 13:33:16             0    NaN  direct           NaN\n"
     ]
    }
   ],
   "source": [
    "google_ads_df = pd.read_csv('googleads-performance.csv')\n",
    "microsoft_ads_df = pd.read_csv('microsoftads-performance.csv')\n",
    "meta_ads_df = pd.read_csv('metaads-performance.csv')\n",
    "website_landing_df = pd.read_csv('website-landings.csv')\n",
    "print(\"Google Ads Performance Data:\")\n",
    "print(google_ads_df.head())\n",
    "print(\"\\nMicrosoft Ads Performance Data:\")\n",
    "print(microsoft_ads_df.head())\n",
    "print(\"\\nMeta Ads Performance Data:\")\n",
    "print(meta_ads_df.head())\n",
    "print(\"\\nWebsite Landing Data:\")\n",
    "print(website_landing_df.head())\n"
   ]
  },
  {
   "cell_type": "code",
   "execution_count": 13,
   "id": "69fc388e",
   "metadata": {},
   "outputs": [],
   "source": [
    "# Convert date columns to datetime format if necessary\n",
    "google_ads_df['Date'] = pd.to_datetime(google_ads_df['Date'])\n",
    "microsoft_ads_df['Date'] = pd.to_datetime(microsoft_ads_df['Date'])\n",
    "meta_ads_df['Date'] = pd.to_datetime(meta_ads_df['Date'])\n",
    "website_landing_df['Website Landing Time'] = pd.to_datetime(website_landing_df['Website Landing Time'])\n",
    "\n",
    "# Handle any missing values\n",
    "google_ads_df.fillna(0, inplace=True)\n",
    "microsoft_ads_df.fillna(0, inplace=True)\n",
    "meta_ads_df.fillna(0, inplace=True)\n",
    "website_landing_df.fillna(0, inplace=True)\n",
    "\n",
    "# Example: Add a 'Total Spend' column to each dataset if not already present\n",
    "google_ads_df['Total Spend'] = google_ads_df['Cost']\n",
    "microsoft_ads_df['Total Spend'] = microsoft_ads_df['Cost']\n",
    "meta_ads_df['Total Spend'] = meta_ads_df['Cost']\n",
    "\n",
    "# Merge datasets if necessary, based on relevant keys (e.g., Date, Campaign Type)\n",
    "# Example: Merge Google Ads and Microsoft Ads on Date\n",
    "merged_df = pd.merge(google_ads_df, microsoft_ads_df, on='Date', suffixes=('_google', '_microsoft'))\n",
    "\n",
    "# Further merge with Meta Ads and Website Landing Data as needed\n"
   ]
  },
  {
   "cell_type": "code",
   "execution_count": 10,
   "id": "0c85ed96",
   "metadata": {},
   "outputs": [
    {
     "name": "stdout",
     "output_type": "stream",
     "text": [
      "Mean Squared Error: 9.310391968197893\n"
     ]
    },
    {
     "ename": "NameError",
     "evalue": "name 'r2_score' is not defined",
     "output_type": "error",
     "traceback": [
      "\u001b[1;31m---------------------------------------------------------------------------\u001b[0m",
      "\u001b[1;31mNameError\u001b[0m                                 Traceback (most recent call last)",
      "Cell \u001b[1;32mIn[10], line 16\u001b[0m\n\u001b[0;32m     14\u001b[0m y_pred \u001b[38;5;241m=\u001b[39m model\u001b[38;5;241m.\u001b[39mpredict(X_test)\n\u001b[0;32m     15\u001b[0m \u001b[38;5;28mprint\u001b[39m(\u001b[38;5;124mf\u001b[39m\u001b[38;5;124m\"\u001b[39m\u001b[38;5;124mMean Squared Error: \u001b[39m\u001b[38;5;132;01m{\u001b[39;00mmean_squared_error(y_test,\u001b[38;5;250m \u001b[39my_pred)\u001b[38;5;132;01m}\u001b[39;00m\u001b[38;5;124m\"\u001b[39m)\n\u001b[1;32m---> 16\u001b[0m \u001b[38;5;28mprint\u001b[39m(\u001b[38;5;124mf\u001b[39m\u001b[38;5;124m\"\u001b[39m\u001b[38;5;124mR-squared: \u001b[39m\u001b[38;5;132;01m{\u001b[39;00mr2_score(y_test,\u001b[38;5;250m \u001b[39my_pred)\u001b[38;5;132;01m}\u001b[39;00m\u001b[38;5;124m\"\u001b[39m)\n",
      "\u001b[1;31mNameError\u001b[0m: name 'r2_score' is not defined"
     ]
    }
   ],
   "source": [
    "# Define the feature set and target variable\n",
    "X = merged_df[['Impressions_google', 'Clicks_google', 'Total Spend_google', \n",
    "               'Impressions_microsoft', 'Clicks_microsoft', 'Total Spend_microsoft']]\n",
    "y = merged_df['Conversions_google']  # or 'Revenue_google' depending on the target\n",
    "\n",
    "# Split the data into training and testing sets\n",
    "X_train, X_test, y_train, y_test = train_test_split(X, y, test_size=0.2, random_state=42)\n",
    "\n",
    "# Train a RandomForest model\n",
    "model = RandomForestRegressor(n_estimators=100, random_state=42)\n",
    "model.fit(X_train, y_train)\n",
    "\n",
    "# Make predictions and evaluate the model\n",
    "y_pred = model.predict(X_test)\n",
    "print(f\"Mean Squared Error: {mean_squared_error(y_test, y_pred)}\")\n",
    "print(f\"R-squared: {r2_score(y_test, y_pred)}\")\n"
   ]
  },
  {
   "cell_type": "code",
   "execution_count": 14,
   "id": "a21d1ce1",
   "metadata": {},
   "outputs": [
    {
     "name": "stdout",
     "output_type": "stream",
     "text": [
      "Allocated Budget for Google Ads: $200000.0\n",
      "Allocated Budget for Microsoft Ads: $200000.0\n"
     ]
    }
   ],
   "source": [
    "# Example: Reallocate budget based on predicted conversions\n",
    "predicted_conversions = model.predict(X)\n",
    "total_budget = 200000  # Total budget available\n",
    "\n",
    "# Calculate proportion of budget to allocate to each channel\n",
    "google_budget = (predicted_conversions.sum() / predicted_conversions.sum()) * total_budget\n",
    "microsoft_budget = (predicted_conversions.sum() / predicted_conversions.sum()) * total_budget\n",
    "\n",
    "print(f\"Allocated Budget for Google Ads: ${google_budget}\")\n",
    "print(f\"Allocated Budget for Microsoft Ads: ${microsoft_budget}\")\n"
   ]
  },
  {
   "cell_type": "code",
   "execution_count": null,
   "id": "01e7b5b6",
   "metadata": {},
   "outputs": [],
   "source": [
    "# Visualize budget allocation\n",
    "channels = ['Google Ads', 'Microsoft Ads']\n",
    "budgets = [google_budget, microsoft_budget]\n",
    "\n",
    "plt.figure(figsize=(10, 6))\n",
    "sns.barplot(x=channels, y=budgets)\n",
    "plt.title(\"Budget Allocation Across Channels\")\n",
    "plt.xlabel(\"Channels\")\n",
    "plt.ylabel(\"Allocated Budget\")\n",
    "plt.show()"
   ]
  }
 ],
 "metadata": {
  "kernelspec": {
   "display_name": "Python 3 (ipykernel)",
   "language": "python",
   "name": "python3"
  },
  "language_info": {
   "codemirror_mode": {
    "name": "ipython",
    "version": 3
   },
   "file_extension": ".py",
   "mimetype": "text/x-python",
   "name": "python",
   "nbconvert_exporter": "python",
   "pygments_lexer": "ipython3",
   "version": "3.11.5"
  }
 },
 "nbformat": 4,
 "nbformat_minor": 5
}
